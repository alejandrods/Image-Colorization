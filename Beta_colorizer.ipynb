{
 "cells": [
  {
   "cell_type": "code",
   "execution_count": 1,
   "metadata": {},
   "outputs": [
    {
     "name": "stderr",
     "output_type": "stream",
     "text": [
      "Using TensorFlow backend.\n"
     ]
    }
   ],
   "source": [
    "from keras.layers import Conv2D, UpSampling2D, InputLayer, Conv2DTranspose\n",
    "from keras.layers import Activation, Dense, Dropout, Flatten\n",
    "from keras.layers.normalization import BatchNormalization\n",
    "from keras.models import Sequential\n",
    "from keras.preprocessing.image import ImageDataGenerator, array_to_img, img_to_array, load_img\n",
    "from skimage.color import rgb2lab, lab2rgb, rgb2gray, xyz2lab\n",
    "from skimage.io import imsave\n",
    "import numpy as np\n",
    "import os\n",
    "import random\n",
    "import tensorflow as tf\n",
    "import matplotlib.image as mpimg\n",
    "import matplotlib.pyplot as plt\n",
    "from PIL import Image\n",
    "import glob\n",
    "from keras.callbacks import TensorBoard"
   ]
  },
  {
   "cell_type": "code",
   "execution_count": 11,
   "metadata": {},
   "outputs": [
    {
     "name": "stdout",
     "output_type": "stream",
     "text": [
      "Len data:  4500\n"
     ]
    }
   ],
   "source": [
    "data = glob.glob('./data_faces/Train/*.jpg')\n",
    "# img = load_img('./data_faces/Train/0A9kTN.jpg')\n",
    "\n",
    "data = data[:4500]\n",
    "print('Len data: ', len(data))\n",
    "images = []\n",
    "for items in data:\n",
    "    images.append(img_to_array(load_img(items)))\n",
    "images = np.array(images, dtype=float)"
   ]
  },
  {
   "cell_type": "code",
   "execution_count": 12,
   "metadata": {},
   "outputs": [
    {
     "name": "stdout",
     "output_type": "stream",
     "text": [
      "Len images:  4500\n",
      "Image shape:  (256, 256, 3)\n"
     ]
    }
   ],
   "source": [
    "print('Len images: ', len(images))\n",
    "print('Image shape: ', images[0].shape)"
   ]
  },
  {
   "cell_type": "markdown",
   "metadata": {},
   "source": [
    "## 1.0/255 : Indicates that we are using a 24-bit RGB color space.  0-255 for each color channel"
   ]
  },
  {
   "cell_type": "code",
   "execution_count": 13,
   "metadata": {},
   "outputs": [
    {
     "name": "stdout",
     "output_type": "stream",
     "text": [
      "(4500, 256, 256, 3)\n"
     ]
    }
   ],
   "source": [
    "X_train = 1.0/255*images\n",
    "\n",
    "print(X_train.shape)"
   ]
  },
  {
   "cell_type": "code",
   "execution_count": 14,
   "metadata": {},
   "outputs": [],
   "source": [
    "model = Sequential()\n",
    "model.add(InputLayer(input_shape=(256, 256, 1)))\n",
    "model.add(Conv2D(64, (3, 3), activation='relu', padding='same'))\n",
    "model.add(Conv2D(64, (3, 3), activation='relu', padding='same', strides=2))\n",
    "model.add(Conv2D(128, (3, 3), activation='relu', padding='same'))\n",
    "model.add(Conv2D(128, (3, 3), activation='relu', padding='same', strides=2))\n",
    "model.add(Conv2D(256, (3, 3), activation='relu', padding='same'))\n",
    "model.add(Conv2D(256, (3, 3), activation='relu', padding='same', strides=2))\n",
    "model.add(Conv2D(512, (3, 3), activation='relu', padding='same'))\n",
    "model.add(Conv2D(256, (3, 3), activation='relu', padding='same'))\n",
    "model.add(Conv2D(128, (3, 3), activation='relu', padding='same'))\n",
    "model.add(UpSampling2D((2, 2)))\n",
    "model.add(Conv2D(64, (3, 3), activation='relu', padding='same'))\n",
    "model.add(UpSampling2D((2, 2)))\n",
    "model.add(Conv2D(32, (3, 3), activation='relu', padding='same'))\n",
    "model.add(Conv2D(2, (3, 3), activation='tanh', padding='same'))\n",
    "model.add(UpSampling2D((2, 2)))"
   ]
  },
  {
   "cell_type": "code",
   "execution_count": 15,
   "metadata": {},
   "outputs": [
    {
     "name": "stdout",
     "output_type": "stream",
     "text": [
      "_________________________________________________________________\n",
      "Layer (type)                 Output Shape              Param #   \n",
      "=================================================================\n",
      "input_2 (InputLayer)         (None, 256, 256, 1)       0         \n",
      "_________________________________________________________________\n",
      "conv2d_13 (Conv2D)           (None, 256, 256, 64)      640       \n",
      "_________________________________________________________________\n",
      "conv2d_14 (Conv2D)           (None, 128, 128, 64)      36928     \n",
      "_________________________________________________________________\n",
      "conv2d_15 (Conv2D)           (None, 128, 128, 128)     73856     \n",
      "_________________________________________________________________\n",
      "conv2d_16 (Conv2D)           (None, 64, 64, 128)       147584    \n",
      "_________________________________________________________________\n",
      "conv2d_17 (Conv2D)           (None, 64, 64, 256)       295168    \n",
      "_________________________________________________________________\n",
      "conv2d_18 (Conv2D)           (None, 32, 32, 256)       590080    \n",
      "_________________________________________________________________\n",
      "conv2d_19 (Conv2D)           (None, 32, 32, 512)       1180160   \n",
      "_________________________________________________________________\n",
      "conv2d_20 (Conv2D)           (None, 32, 32, 256)       1179904   \n",
      "_________________________________________________________________\n",
      "conv2d_21 (Conv2D)           (None, 32, 32, 128)       295040    \n",
      "_________________________________________________________________\n",
      "up_sampling2d_4 (UpSampling2 (None, 64, 64, 128)       0         \n",
      "_________________________________________________________________\n",
      "conv2d_22 (Conv2D)           (None, 64, 64, 64)        73792     \n",
      "_________________________________________________________________\n",
      "up_sampling2d_5 (UpSampling2 (None, 128, 128, 64)      0         \n",
      "_________________________________________________________________\n",
      "conv2d_23 (Conv2D)           (None, 128, 128, 32)      18464     \n",
      "_________________________________________________________________\n",
      "conv2d_24 (Conv2D)           (None, 128, 128, 2)       578       \n",
      "_________________________________________________________________\n",
      "up_sampling2d_6 (UpSampling2 (None, 256, 256, 2)       0         \n",
      "=================================================================\n",
      "Total params: 3,892,194\n",
      "Trainable params: 3,892,194\n",
      "Non-trainable params: 0\n",
      "_________________________________________________________________\n"
     ]
    }
   ],
   "source": [
    "model.summary()\n",
    "model.compile(optimizer='rmsprop',loss='mse')"
   ]
  },
  {
   "cell_type": "markdown",
   "metadata": {},
   "source": [
    "## We are using a ImageDataGenerator because the dataset is too big"
   ]
  },
  {
   "cell_type": "code",
   "execution_count": 16,
   "metadata": {},
   "outputs": [],
   "source": [
    "datagen = ImageDataGenerator(\n",
    "        shear_range=0.2,\n",
    "        zoom_range=0.2,\n",
    "        rotation_range=20,\n",
    "        horizontal_flip=True)"
   ]
  },
  {
   "cell_type": "code",
   "execution_count": 17,
   "metadata": {},
   "outputs": [
    {
     "data": {
      "text/plain": [
       "90.0"
      ]
     },
     "execution_count": 17,
     "metadata": {},
     "output_type": "execute_result"
    }
   ],
   "source": [
    "4500/50"
   ]
  },
  {
   "cell_type": "markdown",
   "metadata": {},
   "source": [
    "#### - [:,:,:,0] : Select the grayscale for training images (X_train)\n",
    "#### - [:,:,:,1:] : Select the green-red and blue-yellow for labels images (Y_train)"
   ]
  },
  {
   "cell_type": "code",
   "execution_count": 18,
   "metadata": {},
   "outputs": [],
   "source": [
    "batch_size = 50\n",
    "def image_a_b_gen(batch_size):\n",
    "    for batch in datagen.flow(X_train, batch_size=batch_size):\n",
    "        lab_batch = rgb2lab(batch)\n",
    "        X_batch = lab_batch[:,:,:,0]\n",
    "        Y_batch = lab_batch[:,:,:,1:] / 128\n",
    "        yield (X_batch.reshape(X_batch.shape+(1,)), Y_batch)"
   ]
  },
  {
   "cell_type": "code",
   "execution_count": 19,
   "metadata": {},
   "outputs": [
    {
     "name": "stdout",
     "output_type": "stream",
     "text": [
      "Epoch 1/21\n",
      "90/90 [==============================] - 208s - loss: 0.1098   \n",
      "Epoch 2/21\n",
      "90/90 [==============================] - 208s - loss: 0.0109   \n",
      "Epoch 3/21\n",
      "90/90 [==============================] - 206s - loss: 0.0104   \n",
      "Epoch 4/21\n",
      "90/90 [==============================] - 205s - loss: 0.0104   \n",
      "Epoch 5/21\n",
      "90/90 [==============================] - 204s - loss: 0.0104   \n",
      "Epoch 6/21\n",
      "90/90 [==============================] - 207s - loss: 0.0111   \n",
      "Epoch 7/21\n",
      "90/90 [==============================] - 203s - loss: 0.0102   \n",
      "Epoch 8/21\n",
      "90/90 [==============================] - 207s - loss: 0.0102   \n",
      "Epoch 9/21\n",
      "90/90 [==============================] - 204s - loss: 0.0101   \n",
      "Epoch 10/21\n",
      "90/90 [==============================] - 201s - loss: 0.0101   \n",
      "Epoch 11/21\n",
      "90/90 [==============================] - 201s - loss: 0.0100   \n",
      "Epoch 12/21\n",
      "90/90 [==============================] - 201s - loss: 0.0099   \n",
      "Epoch 13/21\n",
      "90/90 [==============================] - 196s - loss: 0.0100   \n",
      "Epoch 14/21\n",
      "90/90 [==============================] - 197s - loss: 0.0099   \n",
      "Epoch 15/21\n",
      "90/90 [==============================] - 197s - loss: 0.0099   \n",
      "Epoch 16/21\n",
      "90/90 [==============================] - 199s - loss: 0.0099   \n",
      "Epoch 17/21\n",
      "90/90 [==============================] - 178s - loss: 0.0099   \n",
      "Epoch 18/21\n",
      "90/90 [==============================] - 196s - loss: 0.0099   \n",
      "Epoch 19/21\n",
      "90/90 [==============================] - 177s - loss: 0.0099   \n",
      "Epoch 20/21\n",
      "90/90 [==============================] - 169s - loss: 0.0099   \n",
      "Epoch 21/21\n",
      "90/90 [==============================] - 169s - loss: 0.0098   \n"
     ]
    }
   ],
   "source": [
    "tensorboard = TensorBoard(log_dir=\"log/\")\n",
    "model.fit_generator(image_a_b_gen(batch_size), callbacks=[tensorboard], \n",
    "                    epochs=21, steps_per_epoch=90)\n",
    "\n",
    "# Save model# Save  \n",
    "model_json = model.to_json()\n",
    "with open(\"./Models/model.json\", \"w\") as json_file:\n",
    "    json_file.write(model_json)\n",
    "model.save_weights(\"./Models/model.h5\")"
   ]
  },
  {
   "cell_type": "code",
   "execution_count": 23,
   "metadata": {},
   "outputs": [],
   "source": [
    "data = glob.glob('./data_faces/Test/*.jpg')\n",
    "# img = load_img('./data_faces/Train/0A9kTN.jpg')\n",
    "\n",
    "\n",
    "color_me = []\n",
    "for items in data:\n",
    "    color_me.append(img_to_array(load_img(items)))\n",
    "\n",
    "# for filename in os.listdir('./data_faces/Test/'):\n",
    "#         color_me.append(img_to_array(load_img('../Test/'+filename)))\n",
    "color_me = np.array(color_me, dtype=float)\n",
    "color_me = rgb2lab(1.0/255*color_me)[:,:,:,0]\n",
    "color_me = color_me.reshape(color_me.shape+(1,))"
   ]
  },
  {
   "cell_type": "code",
   "execution_count": 24,
   "metadata": {},
   "outputs": [],
   "source": [
    "output = model.predict(color_me)\n",
    "# El resultado es entre -1 y 1, por eso lo multiplicamos por 128\n",
    "output = output * 128"
   ]
  },
  {
   "cell_type": "code",
   "execution_count": 25,
   "metadata": {},
   "outputs": [
    {
     "name": "stderr",
     "output_type": "stream",
     "text": [
      "C:\\Users\\aleja\\Anaconda3\\lib\\site-packages\\skimage\\util\\dtype.py:122: UserWarning: Possible precision loss when converting from float64 to uint8\n",
      "  .format(dtypeobj_in, dtypeobj_out))\n",
      "C:\\Users\\aleja\\Anaconda3\\lib\\site-packages\\skimage\\io\\_io.py:132: UserWarning: ./results/img_30.png is a low contrast image\n",
      "  warn('%s is a low contrast image' % fname)\n",
      "C:\\Users\\aleja\\Anaconda3\\lib\\site-packages\\skimage\\io\\_io.py:132: UserWarning: ./results/img_236.png is a low contrast image\n",
      "  warn('%s is a low contrast image' % fname)\n"
     ]
    }
   ],
   "source": [
    "for i in range(len(output)):\n",
    "        cur = np.zeros((256, 256, 3))\n",
    "        # Creamos un black RGB canvas para llenar los pixeles que tienen las 3 capas \n",
    "        # de RGB a 0\n",
    "        cur[:,:,0] = color_me[i][:,:,0]\n",
    "        cur[:,:,1:] = output[i]\n",
    "        imsave(\"./results/img_\"+str(i)+\".png\", lab2rgb(cur))"
   ]
  },
  {
   "cell_type": "code",
   "execution_count": null,
   "metadata": {},
   "outputs": [],
   "source": [
    "# model = Sequential()\n",
    "# model.add(InputLayer(input_shape=(None, None, 1)))\n",
    "# model.add(Conv2D(8, (3, 3), activation='relu', padding='same', strides=2))\n",
    "# model.add(Conv2D(8, (3, 3), activation='relu', padding='same'))\n",
    "# model.add(Conv2D(16, (3, 3), activation='relu', padding='same'))\n",
    "# model.add(Conv2D(16, (3, 3), activation='relu', padding='same', strides=2))\n",
    "# model.add(Conv2D(32, (3, 3), activation='relu', padding='same'))\n",
    "# model.add(Conv2D(32, (3, 3), activation='relu', padding='same', strides=2))\n",
    "# model.add(UpSampling2D((2, 2)))\n",
    "# model.add(Conv2D(32, (3, 3), activation='relu', padding='same'))\n",
    "# model.add(UpSampling2D((2, 2)))\n",
    "# model.add(Conv2D(16, (3, 3), activation='relu', padding='same'))\n",
    "# model.add(UpSampling2D((2, 2)))\n",
    "# model.add(Conv2D(2, (3, 3), activation='tanh', padding='same'))"
   ]
  },
  {
   "cell_type": "code",
   "execution_count": null,
   "metadata": {},
   "outputs": [],
   "source": [
    "# model.summary()\n",
    "# model.compile(optimizer='rmsprop',loss='mse')"
   ]
  },
  {
   "cell_type": "code",
   "execution_count": null,
   "metadata": {},
   "outputs": [],
   "source": [
    "# model.fit(x=X, y=Y, batch_size=1, epochs=3000)\n",
    "# print(model.evaluate(X, Y, batch_size=1))"
   ]
  },
  {
   "cell_type": "code",
   "execution_count": null,
   "metadata": {},
   "outputs": [],
   "source": [
    "# output = model.predict(X)\n",
    "# output = output * 128\n",
    "# canvas = np.zeros((256, 256, 3))\n",
    "# canvas[:,:,0] = X[0][:,:,0]\n",
    "# canvas[:,:,1:] = output[0]\n",
    "# imsave(\"img_result.png\", lab2rgb(canvas))\n",
    "# imsave(\"img_gray_scale.png\", rgb2gray(lab2rgb(canvas)))"
   ]
  },
  {
   "cell_type": "code",
   "execution_count": null,
   "metadata": {},
   "outputs": [],
   "source": []
  }
 ],
 "metadata": {
  "kernelspec": {
   "display_name": "Python 3",
   "language": "python",
   "name": "python3"
  },
  "language_info": {
   "codemirror_mode": {
    "name": "ipython",
    "version": 3
   },
   "file_extension": ".py",
   "mimetype": "text/x-python",
   "name": "python",
   "nbconvert_exporter": "python",
   "pygments_lexer": "ipython3",
   "version": "3.6.6"
  }
 },
 "nbformat": 4,
 "nbformat_minor": 2
}
